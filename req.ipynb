{
 "cells": [
  {
   "cell_type": "code",
   "execution_count": 5,
   "metadata": {},
   "outputs": [
    {
     "name": "stdout",
     "output_type": "stream",
     "text": [
      "Requirement already satisfied: requests in /opt/homebrew/lib/python3.11/site-packages (2.31.0)\n",
      "Requirement already satisfied: charset-normalizer<4,>=2 in /opt/homebrew/lib/python3.11/site-packages (from requests) (3.3.2)\n",
      "Requirement already satisfied: idna<4,>=2.5 in /opt/homebrew/lib/python3.11/site-packages (from requests) (3.6)\n",
      "Requirement already satisfied: urllib3<3,>=1.21.1 in /opt/homebrew/lib/python3.11/site-packages (from requests) (2.1.0)\n",
      "Requirement already satisfied: certifi>=2017.4.17 in /opt/homebrew/lib/python3.11/site-packages (from requests) (2023.11.17)\n",
      "\n",
      "\u001b[1m[\u001b[0m\u001b[34;49mnotice\u001b[0m\u001b[1;39;49m]\u001b[0m\u001b[39;49m A new release of pip is available: \u001b[0m\u001b[31;49m23.3.1\u001b[0m\u001b[39;49m -> \u001b[0m\u001b[32;49m23.3.2\u001b[0m\n",
      "\u001b[1m[\u001b[0m\u001b[34;49mnotice\u001b[0m\u001b[1;39;49m]\u001b[0m\u001b[39;49m To update, run: \u001b[0m\u001b[32;49mpython3.11 -m pip install --upgrade pip\u001b[0m\n"
     ]
    }
   ],
   "source": [
    "!pip install requests"
   ]
  },
  {
   "cell_type": "code",
   "execution_count": 7,
   "metadata": {},
   "outputs": [
    {
     "name": "stdout",
     "output_type": "stream",
     "text": [
      "{'count': 25, 'status': 'OK', 'result': [{'sdCd': '11', 'sdNm': '서울특별시', 'sggCd': '11110', 'sggNm': '종로구', 'emdCd': None, 'emdNm': None}, {'sdCd': '11', 'sdNm': '서울특별시', 'sggCd': '11140', 'sggNm': '중구', 'emdCd': None, 'emdNm': None}, {'sdCd': '11', 'sdNm': '서울특별시', 'sggCd': '11170', 'sggNm': '용산구', 'emdCd': None, 'emdNm': None}, {'sdCd': '11', 'sdNm': '서울특별시', 'sggCd': '11200', 'sggNm': '성동구', 'emdCd': None, 'emdNm': None}, {'sdCd': '11', 'sdNm': '서울특별시', 'sggCd': '11215', 'sggNm': '광진구', 'emdCd': None, 'emdNm': None}, {'sdCd': '11', 'sdNm': '서울특별시', 'sggCd': '11230', 'sggNm': '동대문구', 'emdCd': None, 'emdNm': None}, {'sdCd': '11', 'sdNm': '서울특별시', 'sggCd': '11260', 'sggNm': '중랑구', 'emdCd': None, 'emdNm': None}, {'sdCd': '11', 'sdNm': '서울특별시', 'sggCd': '11290', 'sggNm': '성북구', 'emdCd': None, 'emdNm': None}, {'sdCd': '11', 'sdNm': '서울특별시', 'sggCd': '11305', 'sggNm': '강북구', 'emdCd': None, 'emdNm': None}, {'sdCd': '11', 'sdNm': '서울특별시', 'sggCd': '11320', 'sggNm': '도봉구', 'emdCd': None, 'emdNm': None}, {'sdCd': '11', 'sdNm': '서울특별시', 'sggCd': '11350', 'sggNm': '노원구', 'emdCd': None, 'emdNm': None}, {'sdCd': '11', 'sdNm': '서울특별시', 'sggCd': '11380', 'sggNm': '은평구', 'emdCd': None, 'emdNm': None}, {'sdCd': '11', 'sdNm': '서울특별시', 'sggCd': '11410', 'sggNm': '서대문구', 'emdCd': None, 'emdNm': None}, {'sdCd': '11', 'sdNm': '서울특별시', 'sggCd': '11440', 'sggNm': '마포구', 'emdCd': None, 'emdNm': None}, {'sdCd': '11', 'sdNm': '서울특별시', 'sggCd': '11470', 'sggNm': '양천구', 'emdCd': None, 'emdNm': None}, {'sdCd': '11', 'sdNm': '서울특별시', 'sggCd': '11500', 'sggNm': '강서구', 'emdCd': None, 'emdNm': None}, {'sdCd': '11', 'sdNm': '서울특별시', 'sggCd': '11530', 'sggNm': '구로구', 'emdCd': None, 'emdNm': None}, {'sdCd': '11', 'sdNm': '서울특별시', 'sggCd': '11545', 'sggNm': '금천구', 'emdCd': None, 'emdNm': None}, {'sdCd': '11', 'sdNm': '서울특별시', 'sggCd': '11560', 'sggNm': '영등포구', 'emdCd': None, 'emdNm': None}, {'sdCd': '11', 'sdNm': '서울특별시', 'sggCd': '11590', 'sggNm': '동작구', 'emdCd': None, 'emdNm': None}, {'sdCd': '11', 'sdNm': '서울특별시', 'sggCd': '11620', 'sggNm': '관악구', 'emdCd': None, 'emdNm': None}, {'sdCd': '11', 'sdNm': '서울특별시', 'sggCd': '11650', 'sggNm': '서초구', 'emdCd': None, 'emdNm': None}, {'sdCd': '11', 'sdNm': '서울특별시', 'sggCd': '11680', 'sggNm': '강남구', 'emdCd': None, 'emdNm': None}, {'sdCd': '11', 'sdNm': '서울특별시', 'sggCd': '11710', 'sggNm': '송파구', 'emdCd': None, 'emdNm': None}, {'sdCd': '11', 'sdNm': '서울특별시', 'sggCd': '11740', 'sggNm': '강동구', 'emdCd': None, 'emdNm': None}]}\n"
     ]
    }
   ],
   "source": [
    "import requests\n",
    "\n",
    "# Open API의 엔드포인트 및 인증키\n",
    "url = 'https://stcis.go.kr/openapi/areacode.json?apikey=20240113113015gekunue11atgmm7mfdd81l3375&sdCd=11'\n",
    "api_key = 'your_api_key'  # 실제 발급받은 API 키로 변경\n",
    "\n",
    "# 요청에 필요한 매개변수\n",
    "# params = {\n",
    "#     'param1': 'value1',\n",
    "#     'param2': 'value2',\n",
    "#     'ServiceKey': api_key  # 예시로 공공데이터포털에서 사용하는 서비스키 추가\n",
    "# }\n",
    "\n",
    "# API에 GET 요청 보내기\n",
    "response = requests.get(url)\n",
    "\n",
    "# 응답 확인\n",
    "if response.status_code == 200:\n",
    "    data = response.json()\n",
    "    print(data)\n",
    "else:\n",
    "    print(f\"Error: {response.status_code}\")\n",
    "    print(response.text)\n"
   ]
  },
  {
   "cell_type": "code",
   "execution_count": 19,
   "metadata": {},
   "outputs": [
    {
     "name": "stdout",
     "output_type": "stream",
     "text": [
      "{'count': 22, 'result': [{'opratDate': '20231218', 'stgSdCd': '11', 'stgSdNm': '서울특별시', 'stgSggCd': '11110', 'stgSggNm': '종로구', 'stgEmdCd': '1111011900', 'stgEmdNm': '세종로', 'arrSdCd': '11', 'arrSdNm': '서울특별시', 'arrSggCd': '11110', 'arrSggNm': '종로구', 'arrEmdCd': '1111016900', 'arrEmdNm': '혜화동', 'tzon': '00', 'quater': '30', 'useStf': 1, 'useTm': 920}, {'opratDate': '20231218', 'stgSdCd': '11', 'stgSdNm': '서울특별시', 'stgSggCd': '11110', 'stgSggNm': '종로구', 'stgEmdCd': '1111011900', 'stgEmdNm': '세종로', 'arrSdCd': '11', 'arrSdNm': '서울특별시', 'arrSggCd': '11110', 'arrSggNm': '종로구', 'arrEmdCd': '1111016900', 'arrEmdNm': '혜화동', 'tzon': '13', 'quater': '45', 'useStf': 1, 'useTm': 1492}, {'opratDate': '20231218', 'stgSdCd': '11', 'stgSdNm': '서울특별시', 'stgSggCd': '11110', 'stgSggNm': '종로구', 'stgEmdCd': '1111011900', 'stgEmdNm': '세종로', 'arrSdCd': '11', 'arrSdNm': '서울특별시', 'arrSggCd': '11110', 'arrSggNm': '종로구', 'arrEmdCd': '1111016900', 'arrEmdNm': '혜화동', 'tzon': '14', 'quater': '15', 'useStf': 4, 'useTm': 1225}, {'opratDate': '20231218', 'stgSdCd': '11', 'stgSdNm': '서울특별시', 'stgSggCd': '11110', 'stgSggNm': '종로구', 'stgEmdCd': '1111011900', 'stgEmdNm': '세종로', 'arrSdCd': '11', 'arrSdNm': '서울특별시', 'arrSggCd': '11110', 'arrSggNm': '종로구', 'arrEmdCd': '1111016900', 'arrEmdNm': '혜화동', 'tzon': '14', 'quater': '30', 'useStf': 1, 'useTm': 1171}, {'opratDate': '20231218', 'stgSdCd': '11', 'stgSdNm': '서울특별시', 'stgSggCd': '11110', 'stgSggNm': '종로구', 'stgEmdCd': '1111011900', 'stgEmdNm': '세종로', 'arrSdCd': '11', 'arrSdNm': '서울특별시', 'arrSggCd': '11110', 'arrSggNm': '종로구', 'arrEmdCd': '1111016900', 'arrEmdNm': '혜화동', 'tzon': '15', 'quater': '00', 'useStf': 2, 'useTm': 1052}, {'opratDate': '20231218', 'stgSdCd': '11', 'stgSdNm': '서울특별시', 'stgSggCd': '11110', 'stgSggNm': '종로구', 'stgEmdCd': '1111011900', 'stgEmdNm': '세종로', 'arrSdCd': '11', 'arrSdNm': '서울특별시', 'arrSggCd': '11110', 'arrSggNm': '종로구', 'arrEmdCd': '1111016900', 'arrEmdNm': '혜화동', 'tzon': '15', 'quater': '15', 'useStf': 2, 'useTm': 1136}, {'opratDate': '20231218', 'stgSdCd': '11', 'stgSdNm': '서울특별시', 'stgSggCd': '11110', 'stgSggNm': '종로구', 'stgEmdCd': '1111011900', 'stgEmdNm': '세종로', 'arrSdCd': '11', 'arrSdNm': '서울특별시', 'arrSggCd': '11110', 'arrSggNm': '종로구', 'arrEmdCd': '1111016900', 'arrEmdNm': '혜화동', 'tzon': '17', 'quater': '00', 'useStf': 1, 'useTm': 1128}, {'opratDate': '20231218', 'stgSdCd': '11', 'stgSdNm': '서울특별시', 'stgSggCd': '11110', 'stgSggNm': '종로구', 'stgEmdCd': '1111011900', 'stgEmdNm': '세종로', 'arrSdCd': '11', 'arrSdNm': '서울특별시', 'arrSggCd': '11110', 'arrSggNm': '종로구', 'arrEmdCd': '1111016900', 'arrEmdNm': '혜화동', 'tzon': '17', 'quater': '45', 'useStf': 1, 'useTm': 1301}, {'opratDate': '20231218', 'stgSdCd': '11', 'stgSdNm': '서울특별시', 'stgSggCd': '11110', 'stgSggNm': '종로구', 'stgEmdCd': '1111011900', 'stgEmdNm': '세종로', 'arrSdCd': '11', 'arrSdNm': '서울특별시', 'arrSggCd': '11110', 'arrSggNm': '종로구', 'arrEmdCd': '1111016900', 'arrEmdNm': '혜화동', 'tzon': '18', 'quater': '00', 'useStf': 1, 'useTm': 1085}, {'opratDate': '20231218', 'stgSdCd': '11', 'stgSdNm': '서울특별시', 'stgSggCd': '11110', 'stgSggNm': '종로구', 'stgEmdCd': '1111011900', 'stgEmdNm': '세종로', 'arrSdCd': '11', 'arrSdNm': '서울특별시', 'arrSggCd': '11110', 'arrSggNm': '종로구', 'arrEmdCd': '1111016900', 'arrEmdNm': '혜화동', 'tzon': '18', 'quater': '15', 'useStf': 1, 'useTm': 1162}, {'opratDate': '20231218', 'stgSdCd': '11', 'stgSdNm': '서울특별시', 'stgSggCd': '11110', 'stgSggNm': '종로구', 'stgEmdCd': '1111011900', 'stgEmdNm': '세종로', 'arrSdCd': '11', 'arrSdNm': '서울특별시', 'arrSggCd': '11110', 'arrSggNm': '종로구', 'arrEmdCd': '1111016900', 'arrEmdNm': '혜화동', 'tzon': '18', 'quater': '45', 'useStf': 1, 'useTm': 1128}, {'opratDate': '20231218', 'stgSdCd': '11', 'stgSdNm': '서울특별시', 'stgSggCd': '11110', 'stgSggNm': '종로구', 'stgEmdCd': '1111011900', 'stgEmdNm': '세종로', 'arrSdCd': '11', 'arrSdNm': '서울특별시', 'arrSggCd': '11110', 'arrSggNm': '종로구', 'arrEmdCd': '1111016900', 'arrEmdNm': '혜화동', 'tzon': '19', 'quater': '15', 'useStf': 3, 'useTm': 1015}, {'opratDate': '20231218', 'stgSdCd': '11', 'stgSdNm': '서울특별시', 'stgSggCd': '11110', 'stgSggNm': '종로구', 'stgEmdCd': '1111011900', 'stgEmdNm': '세종로', 'arrSdCd': '11', 'arrSdNm': '서울특별시', 'arrSggCd': '11110', 'arrSggNm': '종로구', 'arrEmdCd': '1111016900', 'arrEmdNm': '혜화동', 'tzon': '19', 'quater': '30', 'useStf': 3, 'useTm': 1231}, {'opratDate': '20231218', 'stgSdCd': '11', 'stgSdNm': '서울특별시', 'stgSggCd': '11110', 'stgSggNm': '종로구', 'stgEmdCd': '1111011900', 'stgEmdNm': '세종로', 'arrSdCd': '11', 'arrSdNm': '서울특별시', 'arrSggCd': '11110', 'arrSggNm': '종로구', 'arrEmdCd': '1111016900', 'arrEmdNm': '혜화동', 'tzon': '19', 'quater': '45', 'useStf': 1, 'useTm': 1117}, {'opratDate': '20231218', 'stgSdCd': '11', 'stgSdNm': '서울특별시', 'stgSggCd': '11110', 'stgSggNm': '종로구', 'stgEmdCd': '1111011900', 'stgEmdNm': '세종로', 'arrSdCd': '11', 'arrSdNm': '서울특별시', 'arrSggCd': '11110', 'arrSggNm': '종로구', 'arrEmdCd': '1111016900', 'arrEmdNm': '혜화동', 'tzon': '20', 'quater': '00', 'useStf': 1, 'useTm': 1040}, {'opratDate': '20231218', 'stgSdCd': '11', 'stgSdNm': '서울특별시', 'stgSggCd': '11110', 'stgSggNm': '종로구', 'stgEmdCd': '1111011900', 'stgEmdNm': '세종로', 'arrSdCd': '11', 'arrSdNm': '서울특별시', 'arrSggCd': '11110', 'arrSggNm': '종로구', 'arrEmdCd': '1111016900', 'arrEmdNm': '혜화동', 'tzon': '20', 'quater': '30', 'useStf': 4, 'useTm': 1039}, {'opratDate': '20231218', 'stgSdCd': '11', 'stgSdNm': '서울특별시', 'stgSggCd': '11110', 'stgSggNm': '종로구', 'stgEmdCd': '1111011900', 'stgEmdNm': '세종로', 'arrSdCd': '11', 'arrSdNm': '서울특별시', 'arrSggCd': '11110', 'arrSggNm': '종로구', 'arrEmdCd': '1111016900', 'arrEmdNm': '혜화동', 'tzon': '21', 'quater': '15', 'useStf': 1, 'useTm': 1224}, {'opratDate': '20231218', 'stgSdCd': '11', 'stgSdNm': '서울특별시', 'stgSggCd': '11110', 'stgSggNm': '종로구', 'stgEmdCd': '1111011900', 'stgEmdNm': '세종로', 'arrSdCd': '11', 'arrSdNm': '서울특별시', 'arrSggCd': '11110', 'arrSggNm': '종로구', 'arrEmdCd': '1111016900', 'arrEmdNm': '혜화동', 'tzon': '21', 'quater': '30', 'useStf': 6, 'useTm': 1118}, {'opratDate': '20231218', 'stgSdCd': '11', 'stgSdNm': '서울특별시', 'stgSggCd': '11110', 'stgSggNm': '종로구', 'stgEmdCd': '1111011900', 'stgEmdNm': '세종로', 'arrSdCd': '11', 'arrSdNm': '서울특별시', 'arrSggCd': '11110', 'arrSggNm': '종로구', 'arrEmdCd': '1111016900', 'arrEmdNm': '혜화동', 'tzon': '21', 'quater': '45', 'useStf': 2, 'useTm': 769}, {'opratDate': '20231218', 'stgSdCd': '11', 'stgSdNm': '서울특별시', 'stgSggCd': '11110', 'stgSggNm': '종로구', 'stgEmdCd': '1111011900', 'stgEmdNm': '세종로', 'arrSdCd': '11', 'arrSdNm': '서울특별시', 'arrSggCd': '11110', 'arrSggNm': '종로구', 'arrEmdCd': '1111016900', 'arrEmdNm': '혜화동', 'tzon': '22', 'quater': '00', 'useStf': 1, 'useTm': 1589}, {'opratDate': '20231218', 'stgSdCd': '11', 'stgSdNm': '서울특별시', 'stgSggCd': '11110', 'stgSggNm': '종로구', 'stgEmdCd': '1111011900', 'stgEmdNm': '세종로', 'arrSdCd': '11', 'arrSdNm': '서울특별시', 'arrSggCd': '11110', 'arrSggNm': '종로구', 'arrEmdCd': '1111016900', 'arrEmdNm': '혜화동', 'tzon': '22', 'quater': '15', 'useStf': 3, 'useTm': 1114}, {'opratDate': '20231218', 'stgSdCd': '11', 'stgSdNm': '서울특별시', 'stgSggCd': '11110', 'stgSggNm': '종로구', 'stgEmdCd': '1111011900', 'stgEmdNm': '세종로', 'arrSdCd': '11', 'arrSdNm': '서울특별시', 'arrSggCd': '11110', 'arrSggNm': '종로구', 'arrEmdCd': '1111016900', 'arrEmdNm': '혜화동', 'tzon': '22', 'quater': '45', 'useStf': 1, 'useTm': 1168}], 'status': 'OK'}\n"
     ]
    }
   ],
   "source": [
    "import requests\n",
    "\n",
    "# Open API의 엔드포인트 및 인증키\n",
    "url = 'https://stcis.go.kr/openapi/quarterod.json?apikey=20240113111218mbp0rhcjamkn0d625fvkiqfmrl&opratDate=20231218&stgEmdCd=1111011900&arrEmdCd=1111016900'\n",
    "\n",
    "# API에 GET 요청 보내기\n",
    "response = requests.get(url)\n",
    "\n",
    "# 응답 확인\n",
    "if response.status_code == 200:\n",
    "    data = response.json()\n",
    "    print(data)\n",
    "else:\n",
    "    print(f\"Error: {response.status_code}\")\n",
    "    print(response.text)\n"
   ]
  },
  {
   "cell_type": "code",
   "execution_count": 20,
   "metadata": {},
   "outputs": [
    {
     "name": "stdout",
     "output_type": "stream",
     "text": [
      "   opratDate stgSdCd stgSdNm stgSggCd stgSggNm    stgEmdCd stgEmdNm arrSdCd  \\\n",
      "0   20231218      11   서울특별시    11110      종로구  1111011900      세종로      11   \n",
      "1   20231218      11   서울특별시    11110      종로구  1111011900      세종로      11   \n",
      "2   20231218      11   서울특별시    11110      종로구  1111011900      세종로      11   \n",
      "3   20231218      11   서울특별시    11110      종로구  1111011900      세종로      11   \n",
      "4   20231218      11   서울특별시    11110      종로구  1111011900      세종로      11   \n",
      "5   20231218      11   서울특별시    11110      종로구  1111011900      세종로      11   \n",
      "6   20231218      11   서울특별시    11110      종로구  1111011900      세종로      11   \n",
      "7   20231218      11   서울특별시    11110      종로구  1111011900      세종로      11   \n",
      "8   20231218      11   서울특별시    11110      종로구  1111011900      세종로      11   \n",
      "9   20231218      11   서울특별시    11110      종로구  1111011900      세종로      11   \n",
      "10  20231218      11   서울특별시    11110      종로구  1111011900      세종로      11   \n",
      "11  20231218      11   서울특별시    11110      종로구  1111011900      세종로      11   \n",
      "12  20231218      11   서울특별시    11110      종로구  1111011900      세종로      11   \n",
      "13  20231218      11   서울특별시    11110      종로구  1111011900      세종로      11   \n",
      "14  20231218      11   서울특별시    11110      종로구  1111011900      세종로      11   \n",
      "15  20231218      11   서울특별시    11110      종로구  1111011900      세종로      11   \n",
      "16  20231218      11   서울특별시    11110      종로구  1111011900      세종로      11   \n",
      "17  20231218      11   서울특별시    11110      종로구  1111011900      세종로      11   \n",
      "18  20231218      11   서울특별시    11110      종로구  1111011900      세종로      11   \n",
      "19  20231218      11   서울특별시    11110      종로구  1111011900      세종로      11   \n",
      "20  20231218      11   서울특별시    11110      종로구  1111011900      세종로      11   \n",
      "21  20231218      11   서울특별시    11110      종로구  1111011900      세종로      11   \n",
      "\n",
      "   arrSdNm arrSggCd arrSggNm    arrEmdCd arrEmdNm tzon quater  useStf  useTm  \n",
      "0    서울특별시    11110      종로구  1111016900      혜화동   00     30       1    920  \n",
      "1    서울특별시    11110      종로구  1111016900      혜화동   13     45       1   1492  \n",
      "2    서울특별시    11110      종로구  1111016900      혜화동   14     15       4   1225  \n",
      "3    서울특별시    11110      종로구  1111016900      혜화동   14     30       1   1171  \n",
      "4    서울특별시    11110      종로구  1111016900      혜화동   15     00       2   1052  \n",
      "5    서울특별시    11110      종로구  1111016900      혜화동   15     15       2   1136  \n",
      "6    서울특별시    11110      종로구  1111016900      혜화동   17     00       1   1128  \n",
      "7    서울특별시    11110      종로구  1111016900      혜화동   17     45       1   1301  \n",
      "8    서울특별시    11110      종로구  1111016900      혜화동   18     00       1   1085  \n",
      "9    서울특별시    11110      종로구  1111016900      혜화동   18     15       1   1162  \n",
      "10   서울특별시    11110      종로구  1111016900      혜화동   18     45       1   1128  \n",
      "11   서울특별시    11110      종로구  1111016900      혜화동   19     15       3   1015  \n",
      "12   서울특별시    11110      종로구  1111016900      혜화동   19     30       3   1231  \n",
      "13   서울특별시    11110      종로구  1111016900      혜화동   19     45       1   1117  \n",
      "14   서울특별시    11110      종로구  1111016900      혜화동   20     00       1   1040  \n",
      "15   서울특별시    11110      종로구  1111016900      혜화동   20     30       4   1039  \n",
      "16   서울특별시    11110      종로구  1111016900      혜화동   21     15       1   1224  \n",
      "17   서울특별시    11110      종로구  1111016900      혜화동   21     30       6   1118  \n",
      "18   서울특별시    11110      종로구  1111016900      혜화동   21     45       2    769  \n",
      "19   서울특별시    11110      종로구  1111016900      혜화동   22     00       1   1589  \n",
      "20   서울특별시    11110      종로구  1111016900      혜화동   22     15       3   1114  \n",
      "21   서울특별시    11110      종로구  1111016900      혜화동   22     45       1   1168  \n"
     ]
    }
   ],
   "source": [
    "import pandas as pd\n",
    "\n",
    "# 'result' 키의 값을 DataFrame으로 변환\n",
    "df = pd.DataFrame(data['result'])\n",
    "print(df)\n",
    "# 'useStf'와 'useTm' 열만 선택\n",
    "# df_selected = df[['useStf', 'useTm']]\n",
    "\n",
    "# 선택된 DataFrame 확인\n",
    "# print(df_selected)\n",
    "\n"
   ]
  },
  {
   "cell_type": "code",
   "execution_count": null,
   "metadata": {},
   "outputs": [],
   "source": []
  }
 ],
 "metadata": {
  "kernelspec": {
   "display_name": "Python 3",
   "language": "python",
   "name": "python3"
  },
  "language_info": {
   "codemirror_mode": {
    "name": "ipython",
    "version": 3
   },
   "file_extension": ".py",
   "mimetype": "text/x-python",
   "name": "python",
   "nbconvert_exporter": "python",
   "pygments_lexer": "ipython3",
   "version": "3.11.6"
  }
 },
 "nbformat": 4,
 "nbformat_minor": 2
}
